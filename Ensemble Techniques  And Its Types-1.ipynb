{
 "cells": [
  {
   "cell_type": "markdown",
   "id": "dd4d7cc6-1046-4d11-acf3-d429370bf02e",
   "metadata": {},
   "source": [
    "Q1. What is an ensemble technique in machine learning?"
   ]
  },
  {
   "cell_type": "markdown",
   "id": "12292e60-2d64-4d0d-a264-a0b431a23b3c",
   "metadata": {},
   "source": [
    "Answer- An ensemble technique in machine learning refers to a method that combines multiple individual models to create a more robust and accurate predictive model."
   ]
  },
  {
   "cell_type": "markdown",
   "id": "569316aa-a1b1-487c-91e0-be3b34799bb9",
   "metadata": {},
   "source": [
    "Q2. Why are ensemble techniques used in machine learning?"
   ]
  },
  {
   "cell_type": "markdown",
   "id": "7a5a84a5-31ea-4879-8052-46b05dc69996",
   "metadata": {},
   "source": [
    "Answer- Ensemble techniques are used in machine learning to improve predictive performance, increase robustness, and reduce overfitting. By combining the predictions of multiple models, ensemble techniques can often achieve better results than any single model alone."
   ]
  },
  {
   "cell_type": "markdown",
   "id": "c1b756ed-bd18-4595-acea-a7f6ca9d20b0",
   "metadata": {},
   "source": [
    "Q3. What is bagging?"
   ]
  },
  {
   "cell_type": "markdown",
   "id": "df0299f3-0a3a-4267-8b0f-e2eebf346420",
   "metadata": {},
   "source": [
    "Answer- Bagging, short for Bootstrap Aggregating, is an ensemble technique where multiple copies of a base model are trained on different subsets of the training data, typically selected randomly with replacement. The final prediction is then typically made by averaging the predictions of all the individual models."
   ]
  },
  {
   "cell_type": "markdown",
   "id": "f8fe1e38-6362-4bef-878d-5b22a2398d79",
   "metadata": {},
   "source": [
    "Q4. What is boosting?"
   ]
  },
  {
   "cell_type": "markdown",
   "id": "0d0f61b0-5bb0-4d0c-ae96-adfcdf3683da",
   "metadata": {},
   "source": [
    "Answer- Boosting is an ensemble technique where multiple weak learners (models that perform slightly better than random chance) are trained sequentially. Each new model in the sequence focuses on the examples that the previous models struggled with, thereby improving the overall performance of the ensemble."
   ]
  },
  {
   "cell_type": "markdown",
   "id": "baa1e219-395f-46f7-b3e5-5b1a24e3702b",
   "metadata": {},
   "source": [
    "Q5. What are the benefits of using ensemble techniques?"
   ]
  },
  {
   "cell_type": "markdown",
   "id": "14a2ce2f-82ab-4751-88ba-8a938002c6df",
   "metadata": {},
   "source": [
    "Answer-The benefits of using ensemble techniques include improved predictive accuracy, increased robustness to noise and outliers, reduced overfitting, and the ability to capture complex relationships in the data."
   ]
  },
  {
   "cell_type": "markdown",
   "id": "5c7ce1b2-948e-4ae7-bc74-60c602e8f125",
   "metadata": {},
   "source": [
    "Q6. Are ensemble techniques always better than individual models?"
   ]
  },
  {
   "cell_type": "markdown",
   "id": "888369f8-3ca3-4f16-b254-f309c4ec3c05",
   "metadata": {},
   "source": [
    "Answer-While ensemble techniques often outperform individual models, they are not guaranteed to do so in all cases. The effectiveness of ensemble methods depends on various factors such as the quality of the base models, the diversity among them, and the characteristics of the dataset."
   ]
  },
  {
   "cell_type": "markdown",
   "id": "c23afc18-00d2-4814-bfe7-48c856a97cfc",
   "metadata": {},
   "source": [
    "Q7. How is the confidence interval calculated using bootstrap?"
   ]
  },
  {
   "cell_type": "markdown",
   "id": "fa686907-3ea2-450c-8e43-30c5685ebba7",
   "metadata": {},
   "source": [
    "Answer-The confidence interval calculated using bootstrap involves resampling the dataset with replacement to create multiple bootstrap samples. Then, for each bootstrap sample, the parameter of interest (e.g., mean) is estimated. Finally, the confidence interval is constructed using percentiles of the bootstrap estimates."
   ]
  },
  {
   "cell_type": "markdown",
   "id": "d09307f8-0b2a-49bc-93b7-a29f28be5014",
   "metadata": {},
   "source": [
    "Q8. How does bootstrap work and What are the steps involved in bootstrap?"
   ]
  },
  {
   "cell_type": "markdown",
   "id": "f45ffab4-cebc-4de1-8e26-021a6d32a6f4",
   "metadata": {},
   "source": [
    "Answer- Bootstrap is a resampling technique used to estimate the sampling distribution of a statistic by repeatedly sampling with replacement from the original dataset. The steps involved in bootstrap are:"
   ]
  },
  {
   "cell_type": "markdown",
   "id": "93b53296-b31a-459f-8da0-41f5d7af4fbb",
   "metadata": {},
   "source": [
    "Draw a random sample with replacement from the original dataset.\n",
    "1.Calculate the statistic of interest (e.g., mean, median) from the bootstrap sample.\n",
    "2.Repeat steps 1 and 2 a large number of times (e.g., 1000 or more times) to create a distribution of bootstrap estimates.\n",
    "3.Use the distribution of bootstrap estimates to calculate confidence intervals or make inferences about the population parameter."
   ]
  },
  {
   "cell_type": "markdown",
   "id": "530f20ca-f390-431b-9ac8-e9d744e29d6e",
   "metadata": {},
   "source": [
    "Q9. A researcher wants to estimate the mean height of a population of trees. They measure the height of a\n",
    "sample of 50 trees and obtain a mean height of 15 meters and a standard deviation of 2 meters. Use\n",
    "bootstrap to estimate the 95% confidence interval for the population mean height.c"
   ]
  },
  {
   "cell_type": "markdown",
   "id": "b27d20e8-5dff-4466-b4e1-7a7655660fde",
   "metadata": {},
   "source": [
    "Answer-To estimate the 95% confidence interval for the population mean height using bootstrap:\n",
    "\n",
    "Sample with replacement from the observed sample of 50 tree heights.\n",
    "Calculate the mean height for each bootstrap sample.\n",
    "Repeat the sampling and calculation process many times (e.g., 1000 times).\n",
    "Compute the 2.5th and 97.5th percentiles of the bootstrap means.\n",
    "These percentiles form the 95% confidence interval for the population mean height."
   ]
  },
  {
   "cell_type": "code",
   "execution_count": null,
   "id": "b00ea48d-e4ad-4b51-9696-b5294aaab430",
   "metadata": {},
   "outputs": [],
   "source": []
  },
  {
   "cell_type": "code",
   "execution_count": null,
   "id": "9bd64ae0-7fbb-4927-afaa-6bce1e6883cd",
   "metadata": {},
   "outputs": [],
   "source": []
  }
 ],
 "metadata": {
  "kernelspec": {
   "display_name": "Python 3 (ipykernel)",
   "language": "python",
   "name": "python3"
  },
  "language_info": {
   "codemirror_mode": {
    "name": "ipython",
    "version": 3
   },
   "file_extension": ".py",
   "mimetype": "text/x-python",
   "name": "python",
   "nbconvert_exporter": "python",
   "pygments_lexer": "ipython3",
   "version": "3.12.2"
  }
 },
 "nbformat": 4,
 "nbformat_minor": 5
}
